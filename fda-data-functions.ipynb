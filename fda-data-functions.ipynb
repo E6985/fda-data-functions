{
 "cells": [
  {
   "cell_type": "code",
   "execution_count": null,
   "metadata": {},
   "outputs": [
    {
     "data": {
      "text/html": [
       "<script>Jupyter.notebook.kernel.restart()</script>"
      ]
     },
     "metadata": {},
     "output_type": "display_data"
    }
   ],
   "source": [
    "from IPython.core.display import display_html\n",
    "display_html(\"<script>Jupyter.notebook.kernel.restart()</script>\",raw=True)"
   ]
  },
  {
   "cell_type": "code",
   "execution_count": 1,
   "metadata": {},
   "outputs": [
    {
     "data": {
      "text/html": [
       "<style>.container { width:100% !important; }</style>"
      ],
      "text/plain": [
       "<IPython.core.display.HTML object>"
      ]
     },
     "metadata": {},
     "output_type": "display_data"
    },
    {
     "data": {
      "text/html": [
       "<style>.container { width:100% !important; }</style>"
      ],
      "text/plain": [
       "<IPython.core.display.HTML object>"
      ]
     },
     "metadata": {},
     "output_type": "display_data"
    }
   ],
   "source": [
    "from sys import path; path.insert(1,\"../src\");\n",
    "import fubar; from importlib import reload; reload(fubar);"
   ]
  },
  {
   "cell_type": "markdown",
   "metadata": {},
   "source": [
    "***\n",
    "< [GMIT Data Analytics](https://web.archive.org/web/20201029063153/https://www.gmit.ie/computer-science-and-applied-physics/higher-diploma-science-computing-data-analytics-ict) | [Home](https://github.com/SeanOhAileasa) | [README](https://github.com/SeanOhAileasa/fda-data-functions/blob/main/README.md) >\n",
    "\n",
    "[![GMIT](https://github.com/SeanOhAileasa/SeanOhAileasa/blob/master/rc/gmit.png?raw=true)](https://web.archive.org/web/20201029063153/https://www.gmit.ie/computer-science-and-applied-physics/higher-diploma-science-computing-data-analytics-ict)\n",
    "\n",
    "## Fundamentals of Data Analysis - Course Material 2020\n",
    "### Topic: [Data and Functions](https://nbviewer.jupyter.org/github/SeanOhAileasa/fda-data-functions/blob/main/fda-data-functions.ipynb)\n",
    "\n",
    "Course material for the ``Fundamentals of Data Analysis`` module (5 Credits) of the ``Higher Diploma in Science in Computing (Data Analytics) (H.Dip)`` programme (75 Credits) at **Galway-Mayo Institute of Technology (GMIT)**.\n",
    "***"
   ]
  },
  {
   "cell_type": "markdown",
   "metadata": {},
   "source": [
    "- referenced external link - [Machine Learning & Statistics](https://nbviewer.jupyter.org/github/SeanOhAileasa/mls-machine-learning-statistics/blob/main/mls-machine-learning-statistics.ipynb)"
   ]
  },
  {
   "cell_type": "code",
   "execution_count": 2,
   "metadata": {},
   "outputs": [],
   "source": [
    "from sys import path; path.insert(1,\"../src\")\n",
    "from fubar import fFile"
   ]
  },
  {
   "cell_type": "code",
   "execution_count": 3,
   "metadata": {},
   "outputs": [
    {
     "name": "stdout",
     "output_type": "stream",
     "text": [
      "# repository ./SeanOhAileasa\r\n",
      "def fFile(nParPath):\r\n",
      "    \"\"\"Start a file with its associated application.\r\n",
      "\r\n",
      "Input: nParPath\r\n",
      "Process: (os.path.realpath; os.startfile)\r\n",
      "Output: file opened with associated application\r\n",
      "\"\"\"\r\n",
      "    from os import path,startfile\r\n",
      "    return startfile(path.realpath(nParPath))\r\n",
      "# --- END ---\r\n"
     ]
    }
   ],
   "source": [
    "%%script bash\n",
    "grep -1 \"def fFile\" ../src/fubar.py -A 9"
   ]
  },
  {
   "cell_type": "code",
   "execution_count": null,
   "metadata": {},
   "outputs": [],
   "source": [
    "fFile(\"./hide/013-Functions in functions - 09-10-2020.mp4\")"
   ]
  },
  {
   "cell_type": "code",
   "execution_count": null,
   "metadata": {},
   "outputs": [],
   "source": [
    "fFile(\"./hide/014-Map and first class functions - 09-10-2020.mp4\")"
   ]
  },
  {
   "cell_type": "code",
   "execution_count": null,
   "metadata": {},
   "outputs": [],
   "source": [
    "fFile(\"./hide/015-Reduce and operators - 09-10-2020.mp4\")"
   ]
  },
  {
   "cell_type": "code",
   "execution_count": null,
   "metadata": {},
   "outputs": [],
   "source": [
    "fFile(\"./hide/015-Reduce and operators - 09-10-2020.mp4\")"
   ]
  },
  {
   "cell_type": "code",
   "execution_count": null,
   "metadata": {},
   "outputs": [],
   "source": [
    "fFile(\"./hide/016-Functions versus data - 09-10-2020.mp4\")"
   ]
  },
  {
   "cell_type": "code",
   "execution_count": null,
   "metadata": {},
   "outputs": [],
   "source": [
    "fFile(\"./hide/018-Functions and models - 09-10-2020.mp4\")"
   ]
  },
  {
   "cell_type": "markdown",
   "metadata": {},
   "source": [
    "<a id=\"top\"></a>\n",
    "***\n",
    "## Table of Contents\n",
    "***\n",
    "\n",
    "## [Abstract](#abstract)\n",
    "\n",
    "###### Keywords: nature of data; functions; model; identity for multiplication; identity for addition; methodologies; algorithms\n",
    "\n",
    "## [Introduction](#introduction)\n",
    "\n",
    "###### Keywords: generic functions;  problem; CPU; programming languages for humans\n",
    "\n",
    "## [Solution](#solution)\n",
    "\n",
    "###### Keywords: MapReduce; functional programming; Greenspun's tenth rule; efficient; iterator; list;  memory; map; call function; copy function; pass function as data; embarrassingly parallel; anonymous function; lambda; one-off; throw-away; reduce; list combine in some way; imperative; replace operator with function; subtract average from list\n",
    "\n",
    "## [Conclusion](#conclusion)\n",
    "\n",
    "###### Keywords: map; reduce; MapReduce; parallelizable; data and functions; operator and function; convention; functional programming; first class objects; machine learning; statement manipulate data construct; model; Alan Turing; John Von Neaumann; imperative programming style; reality no distinction between data and functions\n",
    "\n",
    "###### Built-in: range; list; str; sum; len\n",
    "###### (A) Standard Library (a_S_tandard_L_ibrary-imports):\n",
    "###### (B) Third Party Library (b_T_hird_P_arty-imports):\n",
    "###### (C) Local Application (c_L_ocal_A_pplication-imports): "
   ]
  },
  {
   "cell_type": "markdown",
   "metadata": {},
   "source": [
    "***\n",
    "## END"
   ]
  },
  {
   "cell_type": "markdown",
   "metadata": {},
   "source": [
    "< [Table of Contents](#top) | [Abstract](#abstract) | [Introduction](#introduction) | [Solution](#solution) | [Conclusion](#conclusion) | [References](#references) >\n",
    "<a id=\"abstract\"></a>\n",
    "***\n",
    "## Abstract\n",
    "### Table of Contents\n",
    "* [Functions](#abstractFunctions)\n",
    "***"
   ]
  },
  {
   "cell_type": "markdown",
   "metadata": {},
   "source": [
    "- knowing how to construct a basic program (using ``if`` statements / ``loops`` / ``functions`` or thinking about data types) there is not much more to programming - anything learnt from this point on about programming will be about different algorithms (combining basic statements into useful packages in terms of functions / modules / libraries) [1]"
   ]
  },
  {
   "cell_type": "markdown",
   "metadata": {},
   "source": [
    "- there is another side to programming and thinking about computing in general - when moving into the space of data analytics / machine learning / statistics it is important to have a proper look at some of the fundamental questions of what a computer does because at the end of the day once the actual analysis (machine learning) is completed (figure out the algorithm) will often find that the statements are relatively straightforward [1]"
   ]
  },
  {
   "cell_type": "markdown",
   "metadata": {},
   "source": [
    "- in statistics (t-test - just two lists of numbers usually) in terms of input (two lists) there is only so many things that can be done with two lists of numbers (maybe add some of the numbers together or multiply them together or divide or subtract or raise one to a power of another or take a square root) but the actual calculation is straightforward - it is the higher level thinking (what the calculation means to us as humans) and does it provide evidence of something [1]"
   ]
  },
  {
   "cell_type": "markdown",
   "metadata": {},
   "source": [
    "- its crucial to understand: i) the nature of data and how its stored in the computer and how that relates to the real world; ii) what functions are (querying some of the basic knowledge of what functions are and what data is) [1] "
   ]
  },
  {
   "cell_type": "markdown",
   "metadata": {},
   "source": [
    "< [Table of Contents](#abstract) | [References](#references) >\n",
    "<a id=\"abstractFunctions\"></a>\n",
    "***\n",
    "###### Functions\n",
    "***"
   ]
  },
  {
   "cell_type": "markdown",
   "metadata": {},
   "source": [
    "- basic features of a function defined with keyword ``def`` named ``fSquare`` with parameter ``n`` and return ``ans`` [1]"
   ]
  },
  {
   "cell_type": "markdown",
   "metadata": {},
   "source": [
    "- somebody had to decide that functions were a thing and had to be invented (not really something that exists in nature) - a function is a model of how things should work (an idea) [1] "
   ]
  },
  {
   "cell_type": "markdown",
   "metadata": {},
   "source": [
    "- implicit in programming knowledge is that this is something when run will become a thing in memory - theres something in memory now that represents this function ``fSquare`` and can be used at a later time (not going to use immediately) [1]"
   ]
  },
  {
   "cell_type": "code",
   "execution_count": 1,
   "metadata": {},
   "outputs": [],
   "source": [
    "# define function - fSquare\n",
    "def fSquare(n):\n",
    "    ans=n*n\n",
    "    return ans"
   ]
  },
  {
   "cell_type": "markdown",
   "metadata": {},
   "source": [
    "- that later time is now so calling the function ``fSquare`` with the argument $4$ - python now knows of the function ``fSquare`` (created by the programmer) and adds the argument $4$ [1]"
   ]
  },
  {
   "cell_type": "code",
   "execution_count": 2,
   "metadata": {},
   "outputs": [
    {
     "data": {
      "text/plain": [
       "16"
      ]
     },
     "execution_count": 2,
     "metadata": {},
     "output_type": "execute_result"
    }
   ],
   "source": [
    "n=4\n",
    "n*n"
   ]
  },
  {
   "cell_type": "code",
   "execution_count": 3,
   "metadata": {},
   "outputs": [
    {
     "data": {
      "text/plain": [
       "16"
      ]
     },
     "execution_count": 3,
     "metadata": {},
     "output_type": "execute_result"
    }
   ],
   "source": [
    "# function fSquare - call\n",
    "fSquare(4)"
   ]
  },
  {
   "cell_type": "markdown",
   "metadata": {},
   "source": [
    "- could define a higher-level function that encapsulates the idea of the function ``fSquare`` that is more versatile and has more features [1]"
   ]
  },
  {
   "cell_type": "markdown",
   "metadata": {},
   "source": [
    "- function ``fPower`` takes two integer inputs ``n`` and ``m`` (an extra mandatory argument) and returns $n^m$ [1]"
   ]
  },
  {
   "cell_type": "markdown",
   "metadata": {},
   "source": [
    "- ``ans`` is assigned $1$ given that it cannot start with $0$ because later parts of the algorithm depend on the fact that $1\\times$ any number is that number back again - $1$ is the ``identity for multiplication`` (``multiplicative identity``) [1] "
   ]
  },
  {
   "cell_type": "markdown",
   "metadata": {},
   "source": [
    "- on the otherhand $0$ is the ``identity for addition`` that is any number $+0$ is that same number back again (any number plus one is not the same number back again) [1]"
   ]
  },
  {
   "cell_type": "markdown",
   "metadata": {},
   "source": [
    "- going through a ``for`` loop ``m`` times with ``ans`` initially assigned one and multiplied by ``n`` again and again returning ``ans`` [1]"
   ]
  },
  {
   "cell_type": "code",
   "execution_count": 4,
   "metadata": {},
   "outputs": [],
   "source": [
    "# define function - fPower\n",
    "def fPower(n,m):\n",
    "    ans=1;\n",
    "    for nIndex in range(m):\n",
    "        ans=ans*n\n",
    "    return ans"
   ]
  },
  {
   "cell_type": "markdown",
   "metadata": {},
   "source": [
    "- the algorithm for the function ``fSquare`` is now somehow embedded in the algorithm for the function ``fPower`` - calling the function ``fPower`` with argument $4$ (same argument supplied to the function ``fSquare``) plus ``m`` as $2$ gets the same result - this is not just the same result by chance given both are equivalent methodologies - the idea behind function ``fPower`` given a second argument $2$ is the same idea encapsulated in the function ``fSquare`` albeit both use different algorithms - the function ``fSquare`` uses a single multiply and the function ``fPower`` uses a loop (can see one embedded in the other) [1]"
   ]
  },
  {
   "cell_type": "code",
   "execution_count": 5,
   "metadata": {},
   "outputs": [
    {
     "data": {
      "text/plain": [
       "16"
      ]
     },
     "execution_count": 5,
     "metadata": {},
     "output_type": "execute_result"
    }
   ],
   "source": [
    "n,m=4,2\n",
    "(n*1)*(n*1)"
   ]
  },
  {
   "cell_type": "code",
   "execution_count": 6,
   "metadata": {},
   "outputs": [
    {
     "data": {
      "text/plain": [
       "16"
      ]
     },
     "execution_count": 6,
     "metadata": {},
     "output_type": "execute_result"
    }
   ],
   "source": [
    "# function fPower - call\n",
    "fPower(4,2)"
   ]
  },
  {
   "cell_type": "markdown",
   "metadata": {},
   "source": [
    "- can now define the function ``fSquare`` in terms of the function ``fPower`` - simply idea by redefining (overwriting) the function ``fSquare`` but this time returning a call to the function ``fPower`` (hardcoding the second argument $2$) which gives the same result - this idea is the same and  its not the same result by chance (just an idea) [1]"
   ]
  },
  {
   "cell_type": "code",
   "execution_count": 7,
   "metadata": {},
   "outputs": [],
   "source": [
    "# redefine function - fSquare\n",
    "def fSquare(n):\n",
    "    # function fPower - call\n",
    "    return fPower(n,2)"
   ]
  },
  {
   "cell_type": "code",
   "execution_count": 8,
   "metadata": {},
   "outputs": [
    {
     "data": {
      "text/plain": [
       "16"
      ]
     },
     "execution_count": 8,
     "metadata": {},
     "output_type": "execute_result"
    }
   ],
   "source": [
    "# function fSquare - call\n",
    "fSquare(4)"
   ]
  },
  {
   "cell_type": "markdown",
   "metadata": {},
   "source": [
    "***\n",
    "## END"
   ]
  },
  {
   "cell_type": "markdown",
   "metadata": {},
   "source": [
    "< [Table of Contents](#top) | [Abstract](#abstract) | [Introduction](#introduction) | [Solution](#solution) | [Conclusion](#conclusion) | [References](#references) >\n",
    "<a id=\"introduction\"></a>\n",
    "***\n",
    "## Introduction\n",
    "***"
   ]
  },
  {
   "cell_type": "markdown",
   "metadata": {},
   "source": [
    "- when thinking about how different functions are constructed there may be a realisation that maybe theres only a handful of basic functions - maybe the functions created when programming are just specific types (specific flavours of more generic functions that are just out there in the same way that the function ``fSquare`` is a specific flavour of the function ``fPower``) - with a couple of things specified maybe the function ``fPower`` is a specific flavour of a more generic function and so on [1]"
   ]
  },
  {
   "cell_type": "markdown",
   "metadata": {},
   "source": [
    "- is there a single function that is the parent function of every other function and what would that mean - this is not an easy question to answer but is a really important question in computing because its important to know what computing really is - it becomes essential to have an overview of the ideas of what computing is and its central idea - machine learning and/or statistics and/or data analytics are all looking to turn very high-level human problems into a computing problem - this is what programming is about - if cannot get a handle on exactly what the computer is doing then probably not going to be able to come up with good answers for problems of machine learning and statistical and data analytics (one of the key questions is whats happening in ones head when doing a calculation) [1]"
   ]
  },
  {
   "cell_type": "markdown",
   "metadata": {},
   "source": [
    "- the idea of a generic function (parent of all other functions) - the processor essentially performs all of the statements (all of the commands given to the computer) - the cpu does everything albeit not quite right to say these days as some other chips (gpu) do some of the instructions - in general the cpu carries out the vast majority of the computation - the cpu is a very simple device and does a variety of things any given second albeit stills only a handful of instructions [1]"
   ]
  },
  {
   "cell_type": "markdown",
   "metadata": {},
   "source": [
    "- everything done on a computer is translated into the basic instructions of the cpu - when moving the mouse around the cpu is doing all the calculations to make sure that the lights in the monitor turn on in just the right way (the arrow on the screen mimics correctly) [1]"
   ]
  },
  {
   "cell_type": "markdown",
   "metadata": {},
   "source": [
    "- the cpu is not a vast array of electronic circuits with lots of different functions it can carry out but has a very limited instruction set - the idea behind a programming language is that things that humans like to talk about such as $n\\times{m}$ the programming language allows the programmer as a human to multiply by ``n`` using asterisk ``*`` - the programming language has this idea built into it and behind the scenes ``python.exe`` translates ``n`` and ``*`` and ``m`` into whatever the basic instructions that the cpu has to carry out to get the correct effect [1]"
   ]
  },
  {
   "cell_type": "markdown",
   "metadata": {},
   "source": [
    "- the computer is going to somehow not show the ones and zeros when it does the multiplication - its going to translate it back into some sort of a squiggle on the screen by turning on/off lights - the cpu does not know that this is a $1$ and $6$ all it knows is these particular sequence of lights will make it look like a ``one six`` to a human [1]"
   ]
  },
  {
   "cell_type": "markdown",
   "metadata": {},
   "source": [
    "- the computer does not understand the programming language - need ``python.exe`` to translate the programming language statements into instructions that the cpu can understand (programming languages are really for humans and are not for computers) [1]"
   ]
  },
  {
   "cell_type": "markdown",
   "metadata": {},
   "source": [
    "***\n",
    "## END"
   ]
  },
  {
   "cell_type": "markdown",
   "metadata": {},
   "source": [
    "< [Table of Contents](#top) | [Abstract](#abstract) | [Introduction](#introduction) | [Solution](#solution) | [Conclusion](#conclusion) | [References](#references) >\n",
    "<a id=\"solution\"></a>\n",
    "***\n",
    "## Solution\n",
    "### Table of Contents\n",
    "\n",
    "* [Iterator](#iterator)\n",
    "* [Map](#map)\n",
    "* [Anonymous Function](#anonymous-function)\n",
    "* [Reduce](#reduce)\n",
    "***"
   ]
  },
  {
   "cell_type": "markdown",
   "metadata": {},
   "source": [
    "- two common ideas - ``map`` - ``reduce`` - sometimes call functions - occur in many different programming languages - built into python [2]"
   ]
  },
  {
   "cell_type": "markdown",
   "metadata": {},
   "source": [
    " - term - MapReduce - ``map`` - ``reduce`` - algorithm - google has used heavily over the years - had a paper written related to running parallel algorithms on their cloud infrastructure - the ideas have been around for a long time - interestingly - ``map`` - ``reduce`` - come from the idea of functional programming - Greenspun's tenth rule - **\"Any sufficiently complicated C or Fortran program contains an ad hoc, informally-specified, bug-ridden, slow implementation of half of Common Lisp.\"** [2]"
   ]
  },
  {
   "cell_type": "markdown",
   "metadata": {},
   "source": [
    "- common lisp is what is called a functional programming language - C - Fortran - Java - python - imperative programming languages - most people these days program in imperative programming languages - but plenty of people do program either in - Common Lisp - Closure - or one of the other functional programming languages - think about data and functions differently - its relevant to the theme of what different functions look like - what they mean [2]"
   ]
  },
  {
   "cell_type": "markdown",
   "metadata": {},
   "source": [
    "- reason for mentioning - functional programming - Greenspun's tenth rule - ``map`` - ``reduce`` - much more fundamental idea for functions than they first appear - lot of algorithms can be rewritten in terms of - ``map`` - ``reduce`` - probably rewritten more efficiently than they are typically implemented - which is sort of what Greenspuns tenth rule is getting at [2]"
   ]
  },
  {
   "cell_type": "markdown",
   "metadata": {},
   "source": [
    "- ``map`` - ``reduce`` - should think of these as very basic functions - if the average programmer knew more about - ``map`` - ``reduce`` - the ideas - the principles of functional programming - probably be better programmers [2]"
   ]
  },
  {
   "cell_type": "markdown",
   "metadata": {},
   "source": [
    "< [Table of Contents](#solution) | [References](#references) >\n",
    "<a id=\"iterator\"></a>\n",
    "***\n",
    "###### Iterator\n",
    "***"
   ]
  },
  {
   "cell_type": "markdown",
   "metadata": {},
   "source": [
    "- create a list of numbers - ``[0, 1, 2, 3, 4, 5, 6, 7, 8, 9]`` - function - ``range`` - creates an iterator - count from zero to nine - wrap it in list - it will just take all of the values out of the iterator [2]"
   ]
  },
  {
   "cell_type": "markdown",
   "metadata": {},
   "source": [
    "- the iterator is more efficient than just a list - a list takes up all the memory at once - whereas an iterator only takes up a chunk at a time [2]"
   ]
  },
  {
   "cell_type": "code",
   "execution_count": 10,
   "metadata": {},
   "outputs": [],
   "source": [
    "n=list(range(10))"
   ]
  },
  {
   "cell_type": "code",
   "execution_count": 11,
   "metadata": {},
   "outputs": [
    {
     "data": {
      "text/plain": [
       "[0, 1, 2, 3, 4, 5, 6, 7, 8, 9]"
      ]
     },
     "execution_count": 11,
     "metadata": {},
     "output_type": "execute_result"
    }
   ],
   "source": [
    "n"
   ]
  },
  {
   "cell_type": "markdown",
   "metadata": {},
   "source": [
    "< [Table of Contents](#solution) | [References](#references) >\n",
    "<a id=\"map\"></a>\n",
    "***\n",
    "###### Map\n",
    "***"
   ]
  },
  {
   "cell_type": "markdown",
   "metadata": {},
   "source": [
    "- ``map`` - is built into python - define a function - ``fMapAll`` - two inputs - ``f`` - ``l`` - takes the list - ``l`` - applies the function - ``f`` - to each of the items in the list - returns a list with those values in it rather than the original items in the list [2]"
   ]
  },
  {
   "cell_type": "markdown",
   "metadata": {},
   "source": [
    "- takes each item in the list ``l`` - one after the other applies ``f`` - creates a new list with all of those - ``f of l`` - values [2]"
   ]
  },
  {
   "cell_type": "code",
   "execution_count": 12,
   "metadata": {},
   "outputs": [],
   "source": [
    "# define function - fMapAll\n",
    "def fMapAll(f,l):\n",
    "    return [f(nEachValue) for nEachValue in l]"
   ]
  },
  {
   "cell_type": "markdown",
   "metadata": {},
   "source": [
    "- call function - ``fMapAll`` - passing function - name - ``fSquare`` - returns new list - the first item in the list returned is the first item of - ``n`` - passed as an argument to the function - ``fSquare`` - the second item in the list is the second item of - ``n`` - passed as an argument to the function - ``fSquare`` - until the last item in the output list is the square of the last item in the list - ``n`` [2]"
   ]
  },
  {
   "cell_type": "code",
   "execution_count": 13,
   "metadata": {
    "scrolled": true
   },
   "outputs": [
    {
     "data": {
      "text/plain": [
       "[0, 1, 4, 9, 16, 25, 36, 49, 64, 81]"
      ]
     },
     "execution_count": 13,
     "metadata": {},
     "output_type": "execute_result"
    }
   ],
   "source": [
    "# function fMapAll- call\n",
    "fMapAll(fSquare,n)"
   ]
  },
  {
   "cell_type": "markdown",
   "metadata": {},
   "source": [
    "- function definition - ``fMapAll`` - parameter - ``f`` - is a function itself [2]\n",
    "\n",
    "```python\n",
    "def fMapAll(f,l)\n",
    "```"
   ]
  },
  {
   "cell_type": "markdown",
   "metadata": {},
   "source": [
    "- parameter - ``f`` - name - of another function - passing function - name - ``fSquare`` - into - ``fMapAll`` [2]\n",
    "\n",
    "```python\n",
    "fMapAll(fSquare,n)\n",
    "```"
   ]
  },
  {
   "cell_type": "markdown",
   "metadata": {},
   "source": [
    "- **NB** - did not call function - ``fMapAll()`` - passing a call to function - ``fSquare`` - with round brackets at the end - ``(`` - ``)`` [2]\n",
    "\n",
    "```python\n",
    "fMapAll(fSquare(),n)\n",
    "```\n",
    "\n",
    "- calling the function - name - ``fSquare`` - identifying the function - ``fSquare`` - actually passing the function - not a call to the function - just passing the function itself - copy [2]\n",
    "\n",
    "```python\n",
    "fMapAll(fSquare,n)\n",
    "```"
   ]
  },
  {
   "cell_type": "markdown",
   "metadata": {},
   "source": [
    "- ``n`` - list of items - think of - ``n`` - as data - passing the function - name - ``fSquare`` - as if its data - we do not really think of as data because its a function - learning to program we are trained - particularly imperative programming languages - to think of the world in terms of instructions that do things - statements - functions - packages - modules - but basically - we think of statements that do things in functions [2]"
   ]
  },
  {
   "cell_type": "markdown",
   "metadata": {},
   "source": [
    "- numbers - lists - ints - floats - strings - are the data - the idea is to construct statements that manipulate the data - each statement has an effect on the data [2]"
   ]
  },
  {
   "cell_type": "markdown",
   "metadata": {},
   "source": [
    "- function - ``fSquare`` - takes the input - ``n`` - a value - a piece of data - runs some statements - then it returns another piece of data - another number - so a function in that sense is taking inputs in the form of data - performing some operations - statements on it - then returning back some data [2]"
   ]
  },
  {
   "cell_type": "markdown",
   "metadata": {},
   "source": [
    "- function - ``fMapAll`` - shows that python has a feature in it that allows you treat a function as if it is a piece of data albeit we consider it a function - passing it in then just identifying it by - name - essentially the data is the same - just given it a different name - then function - ``fMapAll`` - starts treating it as a statement again [2]"
   ]
  },
  {
   "cell_type": "markdown",
   "metadata": {},
   "source": [
    "- can come up with scenarios where you can return functions back - when defining the function - ``fSquare`` - in terms of the function - ``fPower`` - actually called the function - ``fPower`` - in one of the statements in the function - ``fSquare`` [2]\n",
    "\n",
    "```python\n",
    "def fPower(n,m):\n",
    "    ans=1;\n",
    "    for nEachValue in range(m):\n",
    "        ans=ans*n\n",
    "    return ans\n",
    "\n",
    "def fSquare(n):\n",
    "    # function fPower - call\n",
    "    return fPower(n,2)\n",
    "```"
   ]
  },
  {
   "cell_type": "markdown",
   "metadata": {},
   "source": [
    "- option in python - could actually go in and manipulate the function - ``fPower`` - as if it was a piece of data - set the value of - ``m`` - hardcoded - ``2`` - complex idea - enough to know that there are different ideas about treating functions - like the function - ``fSquare`` [2]"
   ]
  },
  {
   "cell_type": "markdown",
   "metadata": {},
   "source": [
    "- seems worthwhile to pass a function - ``fSquare`` - into the function - ``fMapAll`` - as if its a piece of data - maybe did not want to square all the numbers - turn them into strings - built-in function - ``str`` - each item converted to a string - now its not the number zero but the string containing the characters - ``\"0\"`` - and so on [2]"
   ]
  },
  {
   "cell_type": "code",
   "execution_count": 14,
   "metadata": {},
   "outputs": [
    {
     "data": {
      "text/plain": [
       "['0', '1', '2', '3', '4', '5', '6', '7', '8', '9']"
      ]
     },
     "execution_count": 14,
     "metadata": {},
     "output_type": "execute_result"
    }
   ],
   "source": [
    "# function fMapAll - call\n",
    "fMapAll(str,n)"
   ]
  },
  {
   "cell_type": "markdown",
   "metadata": {},
   "source": [
    "- function definition - ``fMapAll`` - uses a - ``for`` - loop [2]\n",
    "\n",
    "```python\n",
    "[f(nEachValue) for nEachValue in l]\n",
    "```"
   ]
  },
  {
   "cell_type": "markdown",
   "metadata": {},
   "source": [
    "- ``map`` - embarrassingly parallel - it does not matter which of the numbers we say either to - square first - turn into a string first or whatever - as long as we keep the numbers in order or the return value is in order - we can do it in any order that we want - so if we wanted to we could square the last one first - then the second last - then the third last - work our way down the list - or we could square first one - then the second one and so on - it does not matter because the return value of one of these items - lets say square - ``3`` - it does not have any effect on what the return value for any of your items is - some algorithms have the property that you would have to calculate the first element of the list first because the second element will depend on the first and third will depend on the second one - maybe the first one as well and so on [2]"
   ]
  },
  {
   "cell_type": "markdown",
   "metadata": {},
   "source": [
    "- using a - ``for`` - loop for doing what the - ``map`` - function does is overkill - does the first iteration - then the second iteration - then the third iteration and so on - you as the programmer have to tell it to do it in that order but you have to tell it the order in which to do it [2]"
   ]
  },
  {
   "cell_type": "markdown",
   "metadata": {},
   "source": [
    "- the reason people like the map function is because it identifies this type of operation - applying the function - ``f`` - to each item in the list - ``l`` - it explicitly has built into it the idea that any of this could happen in parallel [2]"
   ]
  },
  {
   "cell_type": "markdown",
   "metadata": {},
   "source": [
    "- have a billion values to square - churning through facebooks data - one for each user on facebook or something like that - if you have to wait for a billion values to square on a computer - it might take a long time - or even something more complex than squaring it but if you know that essentially all you want to do is square each value individually in its own right - then realise you do not have to do them one after the other - can ask one computer to do the first 10000 values - another computers do the next 10000 values and so on through the whole list of a billion numbers - can all do this in a split second - can feed back the results and can just patch the results back up together again into one big list from all the individual 10000 item lists [2]"
   ]
  },
  {
   "cell_type": "markdown",
   "metadata": {},
   "source": [
    "- turns out that a lot of common functions actually do not need the idea of a - ``for`` - loop because they are embarrassingly parallel - thats why google were so interested in the idea of - ``map`` - ``reduce`` [2]"
   ]
  },
  {
   "cell_type": "markdown",
   "metadata": {},
   "source": [
    "< [Table of Contents](#solution) | [References](#references) >\n",
    "<a id=\"anonymous-function\"></a>\n",
    "***\n",
    "###### Anonymous Function\n",
    "***"
   ]
  },
  {
   "cell_type": "markdown",
   "metadata": {},
   "source": [
    "- python - as well as many other programming languages - has anonymous functions built in [2]"
   ]
  },
  {
   "cell_type": "markdown",
   "metadata": {},
   "source": [
    "- keyword - ``lambda`` - no name - one-off - throw-away function - takes a single argument - ``x`` [2] "
   ]
  },
  {
   "cell_type": "markdown",
   "metadata": {},
   "source": [
    "- ``:`` -  returning a single statement - ``x-5`` - passing value - ``x`` - to the - ``lambda`` - function - returns - ``x-5`` [2]"
   ]
  },
  {
   "cell_type": "markdown",
   "metadata": {},
   "source": [
    "- passing - ``lamba`` to ``fMapAll`` [2]"
   ]
  },
  {
   "cell_type": "markdown",
   "metadata": {},
   "source": [
    "- within the function definition of - ``fMapAll`` - the - ``lambda`` - function is given the name - ``f`` - once function - ``fMapAll`` - finishes then that - name - is gone - function disappears too because that is an anonymous function - takes five away from each item in the list - ``n`` [2]"
   ]
  },
  {
   "cell_type": "code",
   "execution_count": 15,
   "metadata": {},
   "outputs": [
    {
     "data": {
      "text/plain": [
       "[-5, -4, -3, -2, -1, 0, 1, 2, 3, 4]"
      ]
     },
     "execution_count": 15,
     "metadata": {},
     "output_type": "execute_result"
    }
   ],
   "source": [
    "# function fMapAll - call\n",
    "fMapAll(lambda x:x-5,n)"
   ]
  },
  {
   "cell_type": "markdown",
   "metadata": {},
   "source": [
    "- function definition - ``fMapAll`` - uses a - ``for`` - loop [2]\n",
    "\n",
    "```python\n",
    "[f(nEachValue) for nEachValue in l]\n",
    "```"
   ]
  },
  {
   "cell_type": "code",
   "execution_count": 16,
   "metadata": {},
   "outputs": [
    {
     "data": {
      "text/plain": [
       "[0, 1, 4, 9, 16, 25, 36, 49, 64, 81]"
      ]
     },
     "execution_count": 16,
     "metadata": {},
     "output_type": "execute_result"
    }
   ],
   "source": [
    "# function fMapAll - call\n",
    "fMapAll(lambda x:x**2,n)"
   ]
  },
  {
   "cell_type": "markdown",
   "metadata": {},
   "source": [
    "< [Table of Contents](#solution) | [References](#references) >\n",
    "<a id=\"reduce\"></a>\n",
    "***\n",
    "###### Reduce\n",
    "***"
   ]
  },
  {
   "cell_type": "markdown",
   "metadata": {},
   "source": [
    "- take a list of items and combine in some way - operation could be as simple as adding all the items in a list [3]"
   ]
  },
  {
   "cell_type": "markdown",
   "metadata": {},
   "source": [
    "- ``n`` - just a list of ten integers - ``0`` to ``9`` [3]"
   ]
  },
  {
   "cell_type": "markdown",
   "metadata": {},
   "source": [
    "- ``reduce`` - built into python - function - fReduceAll - reducing the list - ``n`` - to a number [3]"
   ]
  },
  {
   "cell_type": "code",
   "execution_count": 17,
   "metadata": {},
   "outputs": [],
   "source": [
    "n=list(range(10))"
   ]
  },
  {
   "cell_type": "code",
   "execution_count": 18,
   "metadata": {},
   "outputs": [
    {
     "data": {
      "text/plain": [
       "[0, 1, 2, 3, 4, 5, 6, 7, 8, 9]"
      ]
     },
     "execution_count": 18,
     "metadata": {},
     "output_type": "execute_result"
    }
   ],
   "source": [
    "n"
   ]
  },
  {
   "cell_type": "markdown",
   "metadata": {},
   "source": [
    "- similar to - ``map`` - function - fReduceAll - parameters: i) function - ``f`` - ii) list - ``l`` [3]"
   ]
  },
  {
   "cell_type": "markdown",
   "metadata": {},
   "source": [
    "- combining the elements of ``l`` in some way using ``f`` [3] "
   ]
  },
  {
   "cell_type": "markdown",
   "metadata": {},
   "source": [
    "- take first two elements in ``l`` - apply ``f`` - local name - ``ans`` - assigned first element - ``[0]`` - of parameter - ``l`` [3]\n",
    "\n",
    "```python\n",
    "ans=l[0]\n",
    "```"
   ]
  },
  {
   "cell_type": "markdown",
   "metadata": {},
   "source": [
    "- using the result value and the third element of ``l`` - again apply ``f`` and so on [3]"
   ]
  },
  {
   "cell_type": "markdown",
   "metadata": {},
   "source": [
    "- loop through the outer elements - starting the loop after element ``l[0]`` via slicing ``l[1:]`` - applying ``f`` to the current ``ans`` - accumalating the elements of ``l`` plus the next list element ``nEachElement`` [3]\n",
    "\n",
    "```python\n",
    "for nEachElement in l[1:]:\n",
    "    ans=f(ans,nEachElement)\n",
    "```"
   ]
  },
  {
   "cell_type": "code",
   "execution_count": 19,
   "metadata": {},
   "outputs": [],
   "source": [
    "# define function - fReduceAll\n",
    "def fReduceAll(f,l):\n",
    "    ans=l[0]\n",
    "    for nEachElement in l[1:]:\n",
    "        ans=f(ans,nEachElement)\n",
    "    return ans"
   ]
  },
  {
   "cell_type": "markdown",
   "metadata": {},
   "source": [
    "- imperative programming languages - function - fPlus - replacing an operator with a function [3]"
   ]
  },
  {
   "cell_type": "code",
   "execution_count": 20,
   "metadata": {},
   "outputs": [],
   "source": [
    "# define function - fPlus\n",
    "def fPlus(x,y):\n",
    "    return x+y"
   ]
  },
  {
   "cell_type": "code",
   "execution_count": 21,
   "metadata": {},
   "outputs": [
    {
     "data": {
      "text/plain": [
       "[0, 1, 2, 3, 4, 5, 6, 7, 8, 9]"
      ]
     },
     "execution_count": 21,
     "metadata": {},
     "output_type": "execute_result"
    }
   ],
   "source": [
    "n"
   ]
  },
  {
   "cell_type": "markdown",
   "metadata": {},
   "source": [
    "- function - fReduceAll - passed the arguments - ``fPlus`` - ``n`` - resulting in the first two elements added together - ``0+1=1`` [3]"
   ]
  },
  {
   "cell_type": "markdown",
   "metadata": {},
   "source": [
    "- result value ``1`` that came from the first two elements are added to ``l[2]=2`` - ``1+2=3`` and so on reducing the list to a single value [3]"
   ]
  },
  {
   "cell_type": "markdown",
   "metadata": {},
   "source": [
    "- function - fPlus - treated as data - not calling the function - ``fPlus()`` [3]"
   ]
  },
  {
   "cell_type": "code",
   "execution_count": 22,
   "metadata": {},
   "outputs": [
    {
     "data": {
      "text/plain": [
       "45"
      ]
     },
     "execution_count": 22,
     "metadata": {},
     "output_type": "execute_result"
    }
   ],
   "source": [
    "# function fReduceAll - call\n",
    "fReduceAll(fPlus,n)"
   ]
  },
  {
   "cell_type": "markdown",
   "metadata": {},
   "source": [
    "- common operation that might be done on a list is to subtract the average from the list resulting in the average of the list when added together being zero [3]"
   ]
  },
  {
   "cell_type": "markdown",
   "metadata": {},
   "source": [
    "- fMapAll - maps ``n`` - list of numbers ``0 to 9`` - to the function ``lambda x:x-(sum(n)/len(n))`` - taking each element ``x`` and substract the sum of ``n`` divided by the length of ``n`` - performing reduce via function - fReduceAll [3]"
   ]
  },
  {
   "cell_type": "code",
   "execution_count": 23,
   "metadata": {},
   "outputs": [
    {
     "data": {
      "text/plain": [
       "0.0"
      ]
     },
     "execution_count": 23,
     "metadata": {},
     "output_type": "execute_result"
    }
   ],
   "source": [
    "# function fReduceAll - call\n",
    "fReduceAll(fPlus,fMapAll(lambda x:x-(sum(n)/len(n)),n))"
   ]
  },
  {
   "cell_type": "markdown",
   "metadata": {},
   "source": [
    "***\n",
    "## END"
   ]
  },
  {
   "cell_type": "markdown",
   "metadata": {},
   "source": [
    "< [Table of Contents](#top) | [Abstract](#abstract) | [Introduction](#introduction) | [Solution](#solution) | [Conclusion](#conclusion) | [References](#references) >\n",
    "<a id=\"conclusion\"></a>\n",
    "## Conclusion\n",
    "### Table of Contents\n",
    "* [Data and Function](#data-and-functions)\n",
    "***"
   ]
  },
  {
   "cell_type": "markdown",
   "metadata": {},
   "source": [
    "-  ``map`` - idea really is to take in a list and a function - the function is applied to each of the elements in the list - the idea behind ``map`` is that each of the items can be dealt with individually [3]"
   ]
  },
  {
   "cell_type": "markdown",
   "metadata": {},
   "source": [
    "- ``reduce`` - is about taking a list of items and combining them in some way [3]"
   ]
  },
  {
   "cell_type": "markdown",
   "metadata": {},
   "source": [
    "- the idea behind ``MapReduce`` is to break different algorithms into two separate components: i) the list of items that you are dealing with - nearly always dealing with a list of items when referring to data analytics - some sort of parallelizable idea; ii) also parallelizable but not quite as easily parallelizable [3]"
   ]
  },
  {
   "cell_type": "markdown",
   "metadata": {},
   "source": [
    "- a lot of important algorithms can be broken down in terms of a ``map`` followed by a ``reduce`` making the process of parallelisation easier [3]"
   ]
  },
  {
   "cell_type": "markdown",
   "metadata": {},
   "source": [
    "< [Table of Contents](#conclusion) | [References](#references) >\n",
    "<a id=\"data-and-functions\"></a>\n",
    "***\n",
    "###### Data and Functions\n",
    "***"
   ]
  },
  {
   "cell_type": "markdown",
   "metadata": {},
   "source": [
    "- functions and data - might not be as clean a distinction between the two ideas - variables - the data - the information and the instructions used to manipulate that data [3]"
   ]
  },
  {
   "cell_type": "markdown",
   "metadata": {},
   "source": [
    "- difference between an operator and a function - truth is there is no real difference - just a convention - operations are different than functions [3]"
   ]
  },
  {
   "cell_type": "markdown",
   "metadata": {},
   "source": [
    "- the $+$ operator - is really like a function - turned it into a function essentially - created function - fPlus - returning ``x+y`` - single individual statement - almost like a unit of python code - single atom - had to put all of the infrastructure around it to be able to pass the idea of adding two numbers together to a ``map`` or ``reduce`` function - passing it around as if its data [3]\n",
    "\n",
    "```python\n",
    "def fPlus(x,y):\n",
    "    return x+y\n",
    "```"
   ]
  },
  {
   "cell_type": "markdown",
   "metadata": {},
   "source": [
    "- might consider passing the $+$ operator just by itself - syntax error - cannot pass $+$ in the same way as passing the function - fPlus [3]\n",
    "\n",
    "```python\n",
    "fPlus(+,n)\n",
    "```\n",
    "\n",
    "```\n",
    "    fPlus(+,n)\n",
    "           ^\n",
    "SyntaxError: invalid syntax\n",
    "```"
   ]
  },
  {
   "cell_type": "markdown",
   "metadata": {},
   "source": [
    "- built-in function - sum - not designed to be passed in this context - expects a lists and not two elements like ``x`` and ``y`` - syntax error [3]\n",
    "\n",
    "```python\n",
    "fPlus(sum,n)\n",
    "```\n",
    "\n",
    "```\n",
    "----> 3     return x+y\n",
    "\n",
    "TypeError: unsupported operand type(s) for +: 'builtin_function_or_method' and 'list'\n",
    "```"
   ]
  },
  {
   "cell_type": "markdown",
   "metadata": {},
   "source": [
    "- other programming languages are designed so that operators can be passed around just like functions can be passed around - make almost no distinction between functions and data [3]"
   ]
  },
  {
   "cell_type": "markdown",
   "metadata": {},
   "source": [
    "- functional programming languages - one of the key features - is that everything is a function - in practice also have the idea of lists but everything is a function including numbers - functions are first class objects although everything is a first class object - everything is fair game to be manipulated either as data or really as a function - everything can be moved around and treated the same way [3]"
   ]
  },
  {
   "cell_type": "markdown",
   "metadata": {},
   "source": [
    "- define function - fTwo - returns the value  ``2`` - demonstrates not only that functions can be treated as if they are data - done with ``map`` and ``reduce`` - can also treat data as if its a function in some way - calling function - fTwo - acts as if its data [3]"
   ]
  },
  {
   "cell_type": "code",
   "execution_count": 24,
   "metadata": {},
   "outputs": [],
   "source": [
    "# define function fTwo:\n",
    "def fTwo():\n",
    "    return 2"
   ]
  },
  {
   "cell_type": "markdown",
   "metadata": {},
   "source": [
    "- call function - fTwo - adding another call to the function - fTwo - as if writing the numeral ``2`` - in practice - python - generating a lot of overhead because of the two calls to function - fTwo - rather than just using the values - ``2+2`` [3]"
   ]
  },
  {
   "cell_type": "code",
   "execution_count": 25,
   "metadata": {},
   "outputs": [
    {
     "data": {
      "text/plain": [
       "4"
      ]
     },
     "execution_count": 25,
     "metadata": {},
     "output_type": "execute_result"
    }
   ],
   "source": [
    "# function fTwo - call\n",
    "fTwo()+fTwo()"
   ]
  },
  {
   "cell_type": "code",
   "execution_count": 26,
   "metadata": {},
   "outputs": [],
   "source": [
    "# define function - fFour\n",
    "def fFour():\n",
    "    # function fTwo - call\n",
    "    return fTwo()+fTwo()"
   ]
  },
  {
   "cell_type": "code",
   "execution_count": 27,
   "metadata": {},
   "outputs": [
    {
     "data": {
      "text/plain": [
       "8"
      ]
     },
     "execution_count": 27,
     "metadata": {},
     "output_type": "execute_result"
    }
   ],
   "source": [
    "# function fFour - call\n",
    "4+fFour()"
   ]
  },
  {
   "cell_type": "markdown",
   "metadata": {},
   "source": [
    "- can return the function - fFour - itself which is not going to return the value ``4`` [3]"
   ]
  },
  {
   "cell_type": "code",
   "execution_count": 28,
   "metadata": {},
   "outputs": [],
   "source": [
    "# define function fFourTheFunction()\n",
    "def fFourTheFunction():\n",
    "    # function fFour - copy\n",
    "    return fFour"
   ]
  },
  {
   "cell_type": "code",
   "execution_count": 29,
   "metadata": {},
   "outputs": [
    {
     "data": {
      "text/plain": [
       "<function __main__.fFour()>"
      ]
     },
     "execution_count": 29,
     "metadata": {},
     "output_type": "execute_result"
    }
   ],
   "source": [
    "# function fFourTheFunction - call\n",
    "fFourTheFunction()"
   ]
  },
  {
   "cell_type": "markdown",
   "metadata": {},
   "source": [
    "- try add function - fFourTheFunction - to itself will generate an error [3]\n",
    "\n",
    "```python\n",
    "fFourTheFunction()+fFourTheFunction()\n",
    "```\n",
    "\n",
    "```\n",
    "----> 2 fFourTheFunction()+fFourTheFunction()\n",
    "\n",
    "TypeError: unsupported operand type(s) for +: 'function' and 'function'\n",
    "```"
   ]
  },
  {
   "cell_type": "markdown",
   "metadata": {},
   "source": [
    "- to understand machine learning need to realise that the nature of how to program a computer is something that somebody decided upon at some point [3]"
   ]
  },
  {
   "cell_type": "markdown",
   "metadata": {},
   "source": [
    "- the idea that there is data and there is statements that manipulate the data is a construct - its a model of the way the computer works - invented mainly by two people - Alan Turing - John Von Neumann - view of the world from an imperative programming language style and its the predominant style that people use to program computers [3]"
   ]
  },
  {
   "cell_type": "markdown",
   "metadata": {},
   "source": [
    "- most people when learning to program in college or wherever learn imperative programming languages - Java - Python - C - C++ - C# - Perl - are all imperative - all think in terms of variables - there is your data and then you have the statements that manipulate that data [3]"
   ]
  },
  {
   "cell_type": "markdown",
   "metadata": {},
   "source": [
    "- other programming languages particularly ones that have a history in artificial intelligence and machine learning and indeed in statistics and data analysis - its still more common to use imperative programme languages but the history of those subjects really focuses more on functional programming languages that sort of treat everything as a function [3]"
   ]
  },
  {
   "cell_type": "markdown",
   "metadata": {},
   "source": [
    "- in functional programming languages people find it quirky when they first get into it because of the realisation that in the real world - reality - there is no distinction between data and functions - they are the same thing [3]"
   ]
  },
  {
   "cell_type": "markdown",
   "metadata": {},
   "source": [
    "***\n",
    "## END"
   ]
  },
  {
   "cell_type": "markdown",
   "metadata": {},
   "source": [
    "< [Table of Contents](#top) | [Abstract](#abstract) | [Introduction](#introduction) | [Solution](#solution) | [Conclusion](#conclusion) | [References](#references) >\n",
    "<a id=\"references\"></a>\n",
    "***\n",
    "## References\n",
    "***\n",
    "&nbsp;&nbsp;&nbsp;&nbsp;&nbsp;&nbsp;&nbsp;&nbsp;&nbsp;[1] I. McLoughlin, \"Functions in functions,\" GMIT, September 2020.\n",
    "\n",
    "&nbsp;&nbsp;&nbsp;&nbsp;&nbsp;&nbsp;&nbsp;&nbsp;&nbsp;[2] I. McLoughlin, \"Map and first class functions,\" GMIT, September 2020.\n",
    "\n",
    "&nbsp;&nbsp;&nbsp;&nbsp;&nbsp;&nbsp;&nbsp;&nbsp;&nbsp;[3] I. McLoughlin, \"Reduce and operators,\" GMIT, September 2020."
   ]
  },
  {
   "cell_type": "markdown",
   "metadata": {},
   "source": [
    "***\n",
    "## END"
   ]
  },
  {
   "cell_type": "markdown",
   "metadata": {},
   "source": [
    "# END JUPYTER NOTEBOOK"
   ]
  }
 ],
 "metadata": {
  "kernelspec": {
   "display_name": "Python 3",
   "language": "python",
   "name": "python3"
  },
  "language_info": {
   "codemirror_mode": {
    "name": "ipython",
    "version": 3
   },
   "file_extension": ".py",
   "mimetype": "text/x-python",
   "name": "python",
   "nbconvert_exporter": "python",
   "pygments_lexer": "ipython3",
   "version": "3.8.8"
  }
 },
 "nbformat": 4,
 "nbformat_minor": 4
}
